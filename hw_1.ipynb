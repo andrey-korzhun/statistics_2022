{
 "cells": [
  {
   "cell_type": "markdown",
   "metadata": {
    "id": "ipr35Qn0S27V"
   },
   "source": [
    "# Урок 1"
   ]
  },
  {
   "cell_type": "markdown",
   "metadata": {
    "id": "G2wMw7vtsFIu"
   },
   "source": [
    "## Случайные события. Условная вероятность. Формула Байеса.  Независимые испытания"
   ]
  },
  {
   "cell_type": "code",
   "execution_count": 1,
   "metadata": {
    "ExecuteTime": {
     "end_time": "2022-02-16T13:03:05.688474Z",
     "start_time": "2022-02-16T13:03:05.550336Z"
    },
    "id": "hCLkAkshsFJE"
   },
   "outputs": [],
   "source": [
    "import numpy as np\n",
    "from math import factorial as f"
   ]
  },
  {
   "cell_type": "markdown",
   "metadata": {
    "id": "bqnvhGwnsFKE"
   },
   "source": [
    "__Размещение из $n$ элементов по $k$ элементов__ — это упорядоченный набор из $k$ элементов, выбранных из множества, содержащего $n$ элементов."
   ]
  },
  {
   "cell_type": "markdown",
   "metadata": {
    "id": "ITiiVKPWsFKF"
   },
   "source": [
    "Число размещений из $n$ по $k$:\n",
    "\n",
    "$$A_n^k = \\frac{n!}{(n - k)!}$$"
   ]
  },
  {
   "cell_type": "code",
   "execution_count": 2,
   "metadata": {
    "ExecuteTime": {
     "end_time": "2022-02-16T13:03:05.693815Z",
     "start_time": "2022-02-16T13:03:05.690751Z"
    },
    "id": "aRmxVO1vwvEY"
   },
   "outputs": [],
   "source": [
    "def arrangements(k, n):\n",
    "    return f(n) // f(n - k)"
   ]
  },
  {
   "cell_type": "markdown",
   "metadata": {
    "id": "1K0UMRiisFKG"
   },
   "source": [
    "__Перестановкой из $n$ элементов__ называется размещение из $n$ элементов по $n$ элементов."
   ]
  },
  {
   "cell_type": "markdown",
   "metadata": {
    "id": "8HZXUfJcsFKI"
   },
   "source": [
    "Число перестановок из $n$ элементов:\n",
    "\n",
    "$$P_n = n!$$"
   ]
  },
  {
   "cell_type": "code",
   "execution_count": 3,
   "metadata": {
    "ExecuteTime": {
     "end_time": "2022-02-16T13:03:05.709121Z",
     "start_time": "2022-02-16T13:03:05.696303Z"
    },
    "id": "ktyYJlBLPfP5"
   },
   "outputs": [],
   "source": [
    "def permutations(n):\n",
    "    return f(n)"
   ]
  },
  {
   "cell_type": "markdown",
   "metadata": {
    "id": "zjQq1-wrsFKC"
   },
   "source": [
    "__Сочетание из $n$ элементов по $k$ элементов__ — это неупорядоченный набор из $k$ элементов, выбранных из множества, содержащего $n$ элементов."
   ]
  },
  {
   "cell_type": "markdown",
   "metadata": {
    "id": "PW2lximGsFKC"
   },
   "source": [
    "Число сочетаний из $n$ по $k$:\n",
    "\n",
    "\\$$C_n^k = \\frac{n!}{k!(n - k)!}$$"
   ]
  },
  {
   "cell_type": "code",
   "execution_count": 4,
   "metadata": {
    "ExecuteTime": {
     "end_time": "2022-02-16T13:03:05.720014Z",
     "start_time": "2022-02-16T13:03:05.710906Z"
    },
    "id": "XqmC5AY8I_Ie"
   },
   "outputs": [],
   "source": [
    "def combinations(k, n):\n",
    "    return f(n) // (f(k) * f(n - k))"
   ]
  },
  {
   "cell_type": "markdown",
   "metadata": {
    "id": "wKLmSJRwS282"
   },
   "source": [
    "### Упражнения"
   ]
  },
  {
   "cell_type": "markdown",
   "metadata": {
    "id": "KWIhCWfMS282"
   },
   "source": [
    "__Задача 1__\n",
    "\n",
    "Группа студентов изучает 10 различных дисциплин. Сколькими способами можно составить расписание на понедельник, если в этот день должно быть 4 разных занятия?"
   ]
  },
  {
   "cell_type": "code",
   "execution_count": 5,
   "metadata": {
    "ExecuteTime": {
     "end_time": "2022-02-16T13:03:05.737701Z",
     "start_time": "2022-02-16T13:03:05.721761Z"
    }
   },
   "outputs": [
    {
     "data": {
      "text/plain": [
       "5040"
      ]
     },
     "execution_count": 5,
     "metadata": {},
     "output_type": "execute_result"
    }
   ],
   "source": [
    "arrangements(4, 10)"
   ]
  },
  {
   "cell_type": "markdown",
   "metadata": {
    "id": "KWIhCWfMS282"
   },
   "source": [
    "__Задача 2__\n",
    "\n",
    "Из колоды в 52 карты вынимают случайным образом 4 карты. Найти число исходов, соответствующих тому, что был вытянут хотя бы один туз."
   ]
  },
  {
   "cell_type": "code",
   "execution_count": 6,
   "metadata": {
    "ExecuteTime": {
     "end_time": "2022-02-16T13:03:05.754743Z",
     "start_time": "2022-02-16T13:03:05.739502Z"
    }
   },
   "outputs": [
    {
     "data": {
      "text/plain": [
       "76145"
      ]
     },
     "execution_count": 6,
     "metadata": {},
     "output_type": "execute_result"
    }
   ],
   "source": [
    "combinations(1, 4) * combinations(\n",
    "    3, 48) + combinations(2, 4) * combinations(\n",
    "    2, 48) + combinations(3, 4) * combinations(\n",
    "    1, 48) + combinations(4, 4)"
   ]
  },
  {
   "cell_type": "markdown",
   "metadata": {
    "id": "KWIhCWfMS282"
   },
   "source": [
    "__Задача 3__\n",
    "\n",
    "Семь человек рассаживаются наудачу на скамейке. Какова вероятность того, что два определённых человека будут сидеть рядом?"
   ]
  },
  {
   "cell_type": "code",
   "execution_count": 7,
   "metadata": {
    "ExecuteTime": {
     "end_time": "2022-02-16T13:03:05.767151Z",
     "start_time": "2022-02-16T13:03:05.756400Z"
    }
   },
   "outputs": [
    {
     "data": {
      "text/plain": [
       "0.2857142857142857"
      ]
     },
     "execution_count": 7,
     "metadata": {},
     "output_type": "execute_result"
    }
   ],
   "source": [
    "12 * f(5) / f(7)"
   ]
  },
  {
   "cell_type": "markdown",
   "metadata": {
    "id": "KWIhCWfMS282"
   },
   "source": [
    "__Задача 4__\n",
    "\n",
    "Из 60 вопросов, входящих в экзаменационные билеты, студент знает 50. Какова вероятность того, что среди трёх наугад выбранных вопросов студент знает: а) все? б) два?"
   ]
  },
  {
   "cell_type": "code",
   "execution_count": 8,
   "metadata": {
    "ExecuteTime": {
     "end_time": "2022-02-16T13:03:05.781103Z",
     "start_time": "2022-02-16T13:03:05.769284Z"
    }
   },
   "outputs": [
    {
     "data": {
      "text/plain": [
       "0.5727644652250146"
      ]
     },
     "execution_count": 8,
     "metadata": {},
     "output_type": "execute_result"
    }
   ],
   "source": [
    "# а)\n",
    "combinations(3, 50) / combinations(3, 60)"
   ]
  },
  {
   "cell_type": "code",
   "execution_count": 9,
   "metadata": {
    "ExecuteTime": {
     "end_time": "2022-02-16T13:03:05.792821Z",
     "start_time": "2022-02-16T13:03:05.783214Z"
    },
    "code_folding": []
   },
   "outputs": [
    {
     "data": {
      "text/plain": [
       "0.5727644652250146"
      ]
     },
     "execution_count": 9,
     "metadata": {},
     "output_type": "execute_result"
    }
   ],
   "source": [
    "# Проверка\n",
    "50 * 49 * 48 / 60 / 59 / 58"
   ]
  },
  {
   "cell_type": "code",
   "execution_count": 10,
   "metadata": {
    "ExecuteTime": {
     "end_time": "2022-02-16T13:03:05.804612Z",
     "start_time": "2022-02-16T13:03:05.794814Z"
    }
   },
   "outputs": [
    {
     "data": {
      "text/plain": [
       "0.35797779076563413"
      ]
     },
     "execution_count": 10,
     "metadata": {},
     "output_type": "execute_result"
    }
   ],
   "source": [
    "# б)\n",
    "combinations(2, 50) * combinations(1, 10) / combinations(3, 60)"
   ]
  },
  {
   "cell_type": "markdown",
   "metadata": {
    "id": "KWIhCWfMS282"
   },
   "source": [
    "__Задача 5__\n",
    "\n",
    "Бросается игральная кость. Пусть событие `A` - появление чётного числа, событие `B` - появление числа больше трёх. Являются ли эти события независимыми?"
   ]
  },
  {
   "cell_type": "code",
   "execution_count": 11,
   "metadata": {
    "ExecuteTime": {
     "end_time": "2022-02-16T13:03:05.814211Z",
     "start_time": "2022-02-16T13:03:05.806507Z"
    }
   },
   "outputs": [],
   "source": [
    "# События являются независимыми"
   ]
  },
  {
   "cell_type": "markdown",
   "metadata": {
    "id": "KWIhCWfMS282"
   },
   "source": [
    "__Задача 6__\n",
    "\n",
    "Допустим, имеется некоторая очень редкая болезнь (поражает 0.1 % населения). Вы приходите к врачу, вам делают тест на эту болезнь, и тест оказывается положительным. Врач говорит вам, что этот тест верно выявляет 99 % больных этой болезнью и всего лишь в 1 % случаев даёт ложный положительный ответ.\n",
    "\n",
    "_Вопрос_: какова вероятность, что вы действительно больны ей?\n",
    "\n",
    "_Подсказка_: вновь используйте формулу Байеса с раскрытием знаменателя с помощью формулы полной вероятности.\n"
   ]
  },
  {
   "cell_type": "code",
   "execution_count": 12,
   "metadata": {
    "ExecuteTime": {
     "end_time": "2022-02-16T13:03:05.826162Z",
     "start_time": "2022-02-16T13:03:05.816115Z"
    }
   },
   "outputs": [
    {
     "data": {
      "text/plain": [
       "0.09016393442622951"
      ]
     },
     "execution_count": 12,
     "metadata": {},
     "output_type": "execute_result"
    }
   ],
   "source": [
    "0.99 * 0.001 / (0.99 * 0.001 + 0.01 * 0.999)"
   ]
  },
  {
   "cell_type": "code",
   "execution_count": null,
   "metadata": {},
   "outputs": [],
   "source": []
  }
 ],
 "metadata": {
  "colab": {
   "name": "practice1.ipynb",
   "provenance": []
  },
  "kernelspec": {
   "display_name": "Python 3",
   "language": "python",
   "name": "python3"
  },
  "language_info": {
   "codemirror_mode": {
    "name": "ipython",
    "version": 3
   },
   "file_extension": ".py",
   "mimetype": "text/x-python",
   "name": "python",
   "nbconvert_exporter": "python",
   "pygments_lexer": "ipython3",
   "version": "3.8.3"
  },
  "toc": {
   "base_numbering": 1,
   "nav_menu": {},
   "number_sections": true,
   "sideBar": true,
   "skip_h1_title": false,
   "title_cell": "Table of Contents",
   "title_sidebar": "Contents",
   "toc_cell": false,
   "toc_position": {},
   "toc_section_display": true,
   "toc_window_display": false
  }
 },
 "nbformat": 4,
 "nbformat_minor": 1
}
