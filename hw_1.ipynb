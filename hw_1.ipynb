{
 "cells": [
  {
   "cell_type": "markdown",
   "metadata": {
    "id": "G2wMw7vtsFIu"
   },
   "source": [
    "## Случайные события. Вероятные события. Условная вероятность. Случайные события. Формула Байеса"
   ]
  },
  {
   "cell_type": "markdown",
   "metadata": {
    "id": "KWIhCWfMS282"
   },
   "source": [
    "__Задача 1__"
   ]
  },
  {
   "cell_type": "code",
   "execution_count": 1,
   "metadata": {
    "ExecuteTime": {
     "end_time": "2022-02-16T13:03:05.688474Z",
     "start_time": "2022-02-16T13:03:05.550336Z"
    },
    "id": "hCLkAkshsFJE"
   },
   "outputs": [],
   "source": [
    "import numpy as np\n",
    "from math import factorial as f"
   ]
  },
  {
   "cell_type": "markdown",
   "metadata": {
    "id": "zjQq1-wrsFKC"
   },
   "source": [
    "__Сочетание из $n$ элементов по $k$ элементов__ — это неупорядоченный набор из $k$ элементов, выбранных из множества, содержащего $n$ элементов."
   ]
  },
  {
   "cell_type": "markdown",
   "metadata": {
    "id": "PW2lximGsFKC"
   },
   "source": [
    "Число сочетаний из $n$ по $k$:\n",
    "\n",
    "\\$$C_n^k = \\frac{n!}{k!(n - k)!}$$"
   ]
  },
  {
   "cell_type": "code",
   "execution_count": 3,
   "metadata": {
    "ExecuteTime": {
     "end_time": "2022-02-16T13:03:05.720014Z",
     "start_time": "2022-02-16T13:03:05.710906Z"
    },
    "id": "XqmC5AY8I_Ie"
   },
   "outputs": [],
   "source": [
    "def combinations(k, n):\n",
    "    return f(n) // (f(k) * f(n - k))"
   ]
  },
  {
   "cell_type": "code",
   "execution_count": 4,
   "metadata": {
    "ExecuteTime": {
     "end_time": "2022-02-16T13:03:05.754743Z",
     "start_time": "2022-02-16T13:03:05.739502Z"
    }
   },
   "outputs": [
    {
     "data": {
      "text/plain": [
       "76145"
      ]
     },
     "execution_count": 4,
     "metadata": {},
     "output_type": "execute_result"
    }
   ],
   "source": [
    "combinations(1, 4) * combinations(\n",
    "    3, 48) + combinations(2, 4) * combinations(\n",
    "    2, 48) + combinations(3, 4) * combinations(\n",
    "    1, 48) + combinations(4, 4)"
   ]
  },
  {
   "cell_type": "markdown",
   "metadata": {
    "id": "KWIhCWfMS282"
   },
   "source": [
    "__Задача 2 и 3__"
   ]
  },
  {
   "cell_type": "code",
   "execution_count": 11,
   "metadata": {
    "ExecuteTime": {
     "end_time": "2022-02-16T13:03:05.781103Z",
     "start_time": "2022-02-16T13:03:05.769284Z"
    }
   },
   "outputs": [
    {
     "data": {
      "text/plain": [
       "0.5727644652250146"
      ]
     },
     "execution_count": 11,
     "metadata": {},
     "output_type": "execute_result"
    }
   ],
   "source": [
    "# 2)\n",
    "combinations(3, 50) / combinations(3, 60)"
   ]
  },
  {
   "cell_type": "code",
   "execution_count": 12,
   "metadata": {
    "ExecuteTime": {
     "end_time": "2022-02-16T13:03:05.792821Z",
     "start_time": "2022-02-16T13:03:05.783214Z"
    },
    "code_folding": []
   },
   "outputs": [
    {
     "data": {
      "text/plain": [
       "0.5727644652250146"
      ]
     },
     "execution_count": 12,
     "metadata": {},
     "output_type": "execute_result"
    }
   ],
   "source": [
    "# Проверка\n",
    "50 * 49 * 48 / 60 / 59 / 58"
   ]
  },
  {
   "cell_type": "code",
   "execution_count": 13,
   "metadata": {
    "ExecuteTime": {
     "end_time": "2022-02-16T13:03:05.804612Z",
     "start_time": "2022-02-16T13:03:05.794814Z"
    }
   },
   "outputs": [
    {
     "data": {
      "text/plain": [
       "0.35797779076563413"
      ]
     },
     "execution_count": 13,
     "metadata": {},
     "output_type": "execute_result"
    }
   ],
   "source": [
    "# 3)\n",
    "combinations(2, 50) * combinations(1, 10) / combinations(3, 60)"
   ]
  },
  {
   "cell_type": "markdown",
   "metadata": {
    "id": "KWIhCWfMS282"
   },
   "source": [
    "__Задача 4__"
   ]
  },
  {
   "cell_type": "code",
   "execution_count": 10,
   "metadata": {
    "ExecuteTime": {
     "end_time": "2022-02-16T13:03:05.826162Z",
     "start_time": "2022-02-16T13:03:05.816115Z"
    }
   },
   "outputs": [
    {
     "data": {
      "text/plain": [
       "0.09016393442622951"
      ]
     },
     "execution_count": 10,
     "metadata": {},
     "output_type": "execute_result"
    }
   ],
   "source": [
    "0.99 * 0.001 / (0.99 * 0.001 + 0.01 * 0.999)"
   ]
  },
  {
   "cell_type": "code",
   "execution_count": null,
   "metadata": {},
   "outputs": [],
   "source": []
  }
 ],
 "metadata": {
  "colab": {
   "name": "practice1.ipynb",
   "provenance": []
  },
  "kernelspec": {
   "display_name": "Python 3",
   "language": "python",
   "name": "python3"
  },
  "language_info": {
   "codemirror_mode": {
    "name": "ipython",
    "version": 3
   },
   "file_extension": ".py",
   "mimetype": "text/x-python",
   "name": "python",
   "nbconvert_exporter": "python",
   "pygments_lexer": "ipython3",
   "version": "3.8.5"
  },
  "toc": {
   "base_numbering": 1,
   "nav_menu": {},
   "number_sections": true,
   "sideBar": true,
   "skip_h1_title": false,
   "title_cell": "Table of Contents",
   "title_sidebar": "Contents",
   "toc_cell": false,
   "toc_position": {},
   "toc_section_display": true,
   "toc_window_display": false
  }
 },
 "nbformat": 4,
 "nbformat_minor": 1
}
